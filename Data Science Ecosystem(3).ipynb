{
 "cells": [
  {
   "cell_type": "markdown",
   "id": "ff0ad89c-a635-40cb-8b5c-ba5150b1dced",
   "metadata": {},
   "source": [
    "# Data Science Tools and Ecosystem"
   ]
  },
  {
   "cell_type": "markdown",
   "id": "2e069eb4-c499-43fa-95a2-ceb8ddf40d45",
   "metadata": {},
   "source": [
    "## In this notebook, Data Science Tools and Ecosystem are summarized."
   ]
  },
  {
   "cell_type": "markdown",
   "id": "05807cbf-3d51-486d-ae78-314e6d15d65b",
   "metadata": {},
   "source": [
    "**Objectives:**"
   ]
  },
  {
   "cell_type": "markdown",
   "id": "38e4f46c-456c-4636-9e8f-7313e66a2f94",
   "metadata": {},
   "source": [
    "* List popular languages for Data Science.\n",
    "* List of commonly used libraries by Data Scientists.\n",
    "* Tables.\n",
    "* Arithmetic expressions.\n",
    "* Ordered and unordered list.\n"
   ]
  },
  {
   "cell_type": "markdown",
   "id": "f96f5dd9-115a-4236-9073-64bed2268263",
   "metadata": {},
   "source": [
    "## Some of the popular languages that Data Scientists use are:"
   ]
  },
  {
   "cell_type": "markdown",
   "id": "8bed0332-00f5-4a73-8002-3673a8dcf265",
   "metadata": {},
   "source": [
    "1. Phyton\n",
    "2. R\n",
    "3. SQL"
   ]
  },
  {
   "cell_type": "markdown",
   "id": "f53d348d-c976-49e8-868c-e072bb7f7224",
   "metadata": {},
   "source": [
    "## Some of the commonly used libraries used by Data Scientists include:"
   ]
  },
  {
   "cell_type": "markdown",
   "id": "2bde20f5-f3bc-4896-90e3-7b22a4237a46",
   "metadata": {},
   "source": [
    "\n",
    "   1. Pandas\n",
    "   2. Numpy\n",
    "   3. Matplotlib"
   ]
  },
  {
   "cell_type": "markdown",
   "id": "07d2902b-6870-4b17-aa44-cc00276a854e",
   "metadata": {},
   "source": [
    "| Data Science Tools |\n",
    "|--------------------|\n",
    "| RStudio            |\n",
    "| Jupyter Notebook   |\n",
    "| Google Colab       |"
   ]
  },
  {
   "cell_type": "markdown",
   "id": "1fb9b44a-fd93-40dd-a764-63055e2b8bab",
   "metadata": {},
   "source": [
    "### Below are a few examples of evaluating arithmetic expressions in Python"
   ]
  },
  {
   "cell_type": "markdown",
   "id": "0a7e8d14-a854-49ae-822e-d65468df9100",
   "metadata": {},
   "source": [
    "<!-- This a simple arithmetic expression to mutiply then add integers -->"
   ]
  },
  {
   "cell_type": "code",
   "execution_count": 47,
   "id": "8644e9d8-6c2f-4de5-85a0-f3eb4a6bbad8",
   "metadata": {},
   "outputs": [
    {
     "data": {
      "text/plain": [
       "17"
      ]
     },
     "execution_count": 47,
     "metadata": {},
     "output_type": "execute_result"
    }
   ],
   "source": [
    "(3*4)+5"
   ]
  },
  {
   "cell_type": "markdown",
   "id": "36e987c5-ec4c-48a9-b15e-bc85e143ecbc",
   "metadata": {},
   "source": [
    "<!-- This will convert 200 minutes to hours by diving by 60 -->"
   ]
  },
  {
   "cell_type": "code",
   "execution_count": 49,
   "id": "aabc51c0-5952-42be-8d26-7123f337d0f4",
   "metadata": {},
   "outputs": [
    {
     "data": {
      "text/plain": [
       "3.3333333333333335"
      ]
     },
     "execution_count": 49,
     "metadata": {},
     "output_type": "execute_result"
    }
   ],
   "source": [
    "hours = 200 / 60\n",
    "hours"
   ]
  },
  {
   "cell_type": "markdown",
   "id": "dbe3f39a-fcc4-4739-938e-3434f58102ce",
   "metadata": {},
   "source": [
    "## Autor\n",
    "Sandra Morera"
   ]
  },
  {
   "cell_type": "markdown",
   "id": "983619ba-5cd8-4c72-95e0-9d0acf7a98e1",
   "metadata": {},
   "source": []
  }
 ],
 "metadata": {
  "kernelspec": {
   "display_name": "Python 3 (ipykernel)",
   "language": "python",
   "name": "python3"
  },
  "language_info": {
   "codemirror_mode": {
    "name": "ipython",
    "version": 3
   },
   "file_extension": ".py",
   "mimetype": "text/x-python",
   "name": "python",
   "nbconvert_exporter": "python",
   "pygments_lexer": "ipython3",
   "version": "3.12.4"
  }
 },
 "nbformat": 4,
 "nbformat_minor": 5
}
